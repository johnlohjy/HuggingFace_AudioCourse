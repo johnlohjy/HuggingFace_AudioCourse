{
 "cells": [
  {
   "cell_type": "markdown",
   "metadata": {},
   "source": [
    "## Challenges of audio data"
   ]
  },
  {
   "cell_type": "markdown",
   "metadata": {},
   "source": [
    "The sheer size of audio datasets poses a big challenge. It exceeds the specifications of a typical hard drive disk.\n",
    "\n",
    "HuggingFace Datasets solves this problem by offering a streaming mode: https://huggingface.co/docs/datasets/stream\n",
    "\n",
    " Streaming allows us to load the data progressively as we iterate over the dataset. Rather than downloading the whole dataset at once, we load the dataset one example at a time. We iterate over the dataset, loading and preparing examples on the fly when they are needed. This way, we only ever load the examples that we’re using, and not the ones that we’re not. Once we’re done with an example sample, we continue iterating over the dataset and load the next one.\n",
    "\n",
    " Advantages\n",
    " - Disk Space: Examples are loaded to memory one-by-one as we iterate over the dataset. Because data is not downloaded locally, there are no disk space requirements\n",
    "\n",
    " - Time: Downloading requires a significant amount of time. In contrast, streaming means loading and processing is done on the fly, you can start using the dataset as soon as the first example is ready  \n",
    "\n",
    " - Easy experimentation: You can experiment on a handful of examples to check that your script works without having to download the entire dataset\n",
    "\n",
    " Disadvantages:\n",
    " - If we want to re-use the dataset, the streaming steps must be repeated, with the audio files loaded and processed on the fly again. For this reason, it is advised to download datasets that you are likely to use multiple times"
   ]
  },
  {
   "cell_type": "markdown",
   "metadata": {},
   "source": [
    "## Usage\n",
    "\n",
    "Enabling streaming mode: Set ```streaming=True``` when loading the dataset\n",
    "\n",
    "```\n",
    "gigaspeech = load_dataset(\"speechcolab/gigaspeech\", \"xs\", streaming=True)\n",
    "```\n",
    "\n",
    "Iterating over the dataset. Accessing an example when streaming a dataset\n",
    "\n",
    "```\n",
    "next(iter(gigaspeech[\"train\"]))\n",
    "```\n",
    "\n",
    "Previewing several examples from a large dataset\n",
    "\n",
    "```\n",
    "gigaspeech_head = gigaspeech[\"train\"].take(2)\n",
    "list(gigaspeech_head)\n",
    "```"
   ]
  },
  {
   "cell_type": "markdown",
   "metadata": {},
   "source": []
  }
 ],
 "metadata": {
  "language_info": {
   "name": "python"
  }
 },
 "nbformat": 4,
 "nbformat_minor": 2
}
